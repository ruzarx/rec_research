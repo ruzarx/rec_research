{
 "cells": [
  {
   "cell_type": "code",
   "execution_count": 6,
   "metadata": {},
   "outputs": [],
   "source": [
    "from pathlib import Path\n",
    "import pandas as pd"
   ]
  },
  {
   "cell_type": "code",
   "execution_count": 2,
   "metadata": {},
   "outputs": [],
   "source": [
    "data_path = f\"data/netflix_movies/\"\n",
    "data_folder_name = \"training_set\"\n",
    "file_path = data_path + data_folder_name"
   ]
  },
  {
   "cell_type": "code",
   "execution_count": 5,
   "metadata": {},
   "outputs": [
    {
     "name": "stdout",
     "output_type": "stream",
     "text": [
      "data/netflix_movies/training_set/mv_0000373.txt\n",
      "data/netflix_movies/training_set/mv_0010160.txt\n",
      "data/netflix_movies/training_set/mv_0009431.txt\n",
      "data/netflix_movies/training_set/mv_0006702.txt\n",
      "data/netflix_movies/training_set/mv_0016511.txt\n",
      "data/netflix_movies/training_set/mv_0015018.txt\n",
      "data/netflix_movies/training_set/mv_0002564.txt\n",
      "data/netflix_movies/training_set/mv_0012777.txt\n",
      "data/netflix_movies/training_set/mv_0004115.txt\n",
      "data/netflix_movies/training_set/mv_0013469.txt\n"
     ]
    }
   ],
   "source": [
    "i = 0\n",
    "for file_name in Path(file_path).iterdir():\n",
    "    print(file_name)\n",
    "    with open(file_name, 'r') as file:\n",
    "        movie_id = file.readline()[:-1]\n",
    "        for line in file:\n",
    "            user_id, rating, date = line.split(',')\n",
    "        i += 1\n",
    "        if i == 10:\n",
    "            break"
   ]
  },
  {
   "cell_type": "code",
   "execution_count": 30,
   "metadata": {},
   "outputs": [],
   "source": [
    "def read_single_file(file_name: Path):\n",
    "    users = []\n",
    "    ratings = []\n",
    "    dates = []\n",
    "    with open(file_name, 'r') as f:\n",
    "        movie_id = f.readline().split(':')[0]\n",
    "        for line in f:\n",
    "            user_id, rating, date = line.split(',')\n",
    "            users.append(user_id)\n",
    "            ratings.append(rating)\n",
    "            dates.append(date)\n",
    "        movie_data = {movie_id: (users, ratings, dates)}\n",
    "    return movie_data\n",
    "\n",
    "all_movies, all_users, all_ratings, all_dates = [], [], [], []\n",
    "i = 0\n",
    "for file_name in Path(file_path).iterdir():\n",
    "    if file_name.suffix == '.txt':\n",
    "        movie_data = read_single_file(file_name)\n",
    "        movie_id = list(movie_data.keys())[0]\n",
    "        users, ratings, dates = movie_data[movie_id]\n",
    "        all_movies.extend([movie_id] * len(users))\n",
    "        all_users.extend(users)\n",
    "        all_ratings.extend(ratings)\n",
    "        all_dates.extend(dates)\n",
    "        i += 1\n",
    "data = pd.DataFrame({'movie': list(map(int, all_movies)),\n",
    "                    'user': list(map(int, all_users)),\n",
    "                    'rating': list(map(int, all_ratings)),\n",
    "                    'date': pd.to_datetime(all_dates)})"
   ]
  },
  {
   "cell_type": "code",
   "execution_count": 31,
   "metadata": {},
   "outputs": [
    {
     "data": {
      "text/html": [
       "<div>\n",
       "<style scoped>\n",
       "    .dataframe tbody tr th:only-of-type {\n",
       "        vertical-align: middle;\n",
       "    }\n",
       "\n",
       "    .dataframe tbody tr th {\n",
       "        vertical-align: top;\n",
       "    }\n",
       "\n",
       "    .dataframe thead th {\n",
       "        text-align: right;\n",
       "    }\n",
       "</style>\n",
       "<table border=\"1\" class=\"dataframe\">\n",
       "  <thead>\n",
       "    <tr style=\"text-align: right;\">\n",
       "      <th></th>\n",
       "      <th>movie</th>\n",
       "    </tr>\n",
       "    <tr>\n",
       "      <th>user</th>\n",
       "      <th></th>\n",
       "    </tr>\n",
       "  </thead>\n",
       "  <tbody>\n",
       "    <tr>\n",
       "      <th>6</th>\n",
       "      <td>626</td>\n",
       "    </tr>\n",
       "    <tr>\n",
       "      <th>7</th>\n",
       "      <td>881</td>\n",
       "    </tr>\n",
       "    <tr>\n",
       "      <th>8</th>\n",
       "      <td>98</td>\n",
       "    </tr>\n",
       "    <tr>\n",
       "      <th>10</th>\n",
       "      <td>260</td>\n",
       "    </tr>\n",
       "    <tr>\n",
       "      <th>25</th>\n",
       "      <td>27</td>\n",
       "    </tr>\n",
       "    <tr>\n",
       "      <th>...</th>\n",
       "      <td>...</td>\n",
       "    </tr>\n",
       "    <tr>\n",
       "      <th>2649404</th>\n",
       "      <td>54</td>\n",
       "    </tr>\n",
       "    <tr>\n",
       "      <th>2649409</th>\n",
       "      <td>50</td>\n",
       "    </tr>\n",
       "    <tr>\n",
       "      <th>2649421</th>\n",
       "      <td>25</td>\n",
       "    </tr>\n",
       "    <tr>\n",
       "      <th>2649426</th>\n",
       "      <td>295</td>\n",
       "    </tr>\n",
       "    <tr>\n",
       "      <th>2649429</th>\n",
       "      <td>263</td>\n",
       "    </tr>\n",
       "  </tbody>\n",
       "</table>\n",
       "<p>480189 rows × 1 columns</p>\n",
       "</div>"
      ],
      "text/plain": [
       "         movie\n",
       "user          \n",
       "6          626\n",
       "7          881\n",
       "8           98\n",
       "10         260\n",
       "25          27\n",
       "...        ...\n",
       "2649404     54\n",
       "2649409     50\n",
       "2649421     25\n",
       "2649426    295\n",
       "2649429    263\n",
       "\n",
       "[480189 rows x 1 columns]"
      ]
     },
     "execution_count": 31,
     "metadata": {},
     "output_type": "execute_result"
    }
   ],
   "source": [
    "data = data[['movie', 'user']].groupby('user').count()\n",
    "data"
   ]
  },
  {
   "cell_type": "code",
   "execution_count": 35,
   "metadata": {},
   "outputs": [
    {
     "data": {
      "text/plain": [
       "96.0"
      ]
     },
     "execution_count": 35,
     "metadata": {},
     "output_type": "execute_result"
    }
   ],
   "source": [
    "data['movie'].median()"
   ]
  },
  {
   "cell_type": "code",
   "execution_count": 34,
   "metadata": {},
   "outputs": [
    {
     "data": {
      "text/plain": [
       "<Axes: >"
      ]
     },
     "execution_count": 34,
     "metadata": {},
     "output_type": "execute_result"
    },
    {
     "data": {
      "image/png": "[encoded data removed]",
      "text/plain": [
       "<Figure size 640x480 with 1 Axes>"
      ]
     },
     "metadata": {},
     "output_type": "display_data"
    }
   ],
   "source": [
    "data[data['movie'] < 200]['movie'].hist()"
   ]
  },
  {
   "cell_type": "code",
   "execution_count": 24,
   "metadata": {},
   "outputs": [],
   "source": [
    "data['is_valid'] = False\n",
    "data['is_test'] = False\n",
    "data.loc[\n",
    "    data.sort_values(['user', 'date']).groupby(['user']).tail(3).index,\n",
    "    'is_valid'] = True\n",
    "data.loc[\n",
    "    data[data['is_valid'] == False].sort_values(['user', 'date']).groupby('user').tail(3).index,\n",
    "    'is_test'] = True\n",
    "data = data.drop(columns='date')"
   ]
  },
  {
   "cell_type": "code",
   "execution_count": 14,
   "metadata": {},
   "outputs": [],
   "source": [
    "from helper_modules.dataset_class import BPRDataset"
   ]
  },
  {
   "cell_type": "code",
   "execution_count": 25,
   "metadata": {},
   "outputs": [],
   "source": [
    "train_df = data[(data['is_valid'] == False) & (data['is_test'] == False)].reset_index(drop=True).drop(columns=['is_valid', 'is_test'])\n",
    "valid_df = data[data['is_valid'] == True].reset_index(drop=True).drop(columns=['is_valid', 'is_test'])\n",
    "test_df = data[data['is_test'] == True].reset_index(drop=True).drop(columns=['is_valid', 'is_test'])"
   ]
  },
  {
   "cell_type": "code",
   "execution_count": 26,
   "metadata": {},
   "outputs": [
    {
     "data": {
      "text/plain": [
       "((4219686, 3), (1187986, 3), (836815, 3))"
      ]
     },
     "execution_count": 26,
     "metadata": {},
     "output_type": "execute_result"
    }
   ],
   "source": [
    "train_df.shape, valid_df.shape, test_df.shape"
   ]
  },
  {
   "cell_type": "code",
   "execution_count": 27,
   "metadata": {},
   "outputs": [
    {
     "name": "stdout",
     "output_type": "stream",
     "text": [
      "N train interactions 4219686\n",
      "N valid interactions 1187986\n",
      "N test interactions 836815\n"
     ]
    }
   ],
   "source": [
    "num_items = data['user'].nunique()\n",
    "train_user_item_pairs = []\n",
    "for _, user, item in train_df[train_df['rating'] >= 0][['user', 'movie']].itertuples():\n",
    "    train_user_item_pairs.append((user, item))\n",
    "print(f\"N train interactions {len(train_user_item_pairs)}\")\n",
    "valid_user_item_pairs = []\n",
    "for _, user, item in valid_df[valid_df['rating'] >= 0][['user', 'movie']].itertuples():\n",
    "    valid_user_item_pairs.append((user, item))\n",
    "print(f\"N valid interactions {len(valid_user_item_pairs)}\")\n",
    "test_user_item_pairs = []\n",
    "for _, user, item in test_df[test_df['rating'] >= 0][['user', 'movie']].itertuples():\n",
    "    test_user_item_pairs.append((user, item))\n",
    "print(f\"N test interactions {len(test_user_item_pairs)}\")"
   ]
  },
  {
   "cell_type": "code",
   "execution_count": 28,
   "metadata": {},
   "outputs": [],
   "source": [
    "train_dataset = BPRDataset(train_user_item_pairs, num_items)\n",
    "valid_dataset = BPRDataset(valid_user_item_pairs, num_items)\n",
    "test_dataset = BPRDataset(test_user_item_pairs, num_items)\n",
    "train_dataloader = BPRDataset.get_dataloader(train_dataset, 16)\n",
    "valid_dataloader = BPRDataset.get_dataloader(valid_dataset, 16)\n",
    "test_dataloader = BPRDataset.get_dataloader(test_dataset, 16)"
   ]
  },
  {
   "cell_type": "code",
   "execution_count": 29,
   "metadata": {},
   "outputs": [
    {
     "data": {
      "text/plain": [
       "'Created dataloaders for train 263731, validation 74250, test 52301'"
      ]
     },
     "execution_count": 29,
     "metadata": {},
     "output_type": "execute_result"
    }
   ],
   "source": [
    "f\"Created dataloaders for train {len(train_dataloader)}, validation {len(valid_dataloader)}, test {len(test_dataloader)}\""
   ]
  },
  {
   "cell_type": "code",
   "execution_count": null,
   "metadata": {},
   "outputs": [],
   "source": []
  },
  {
   "cell_type": "code",
   "execution_count": null,
   "metadata": {},
   "outputs": [],
   "source": []
  }
 ],
 "metadata": {
  "kernelspec": {
   "display_name": "rec",
   "language": "python",
   "name": "python3"
  },
  "language_info": {
   "codemirror_mode": {
    "name": "ipython",
    "version": 3
   },
   "file_extension": ".py",
   "mimetype": "text/x-python",
   "name": "python",
   "nbconvert_exporter": "python",
   "pygments_lexer": "ipython3",
   "version": "3.11.10"
  }
 },
 "nbformat": 4,
 "nbformat_minor": 2
}
